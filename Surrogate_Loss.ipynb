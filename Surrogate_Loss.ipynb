{
 "cells": [
  {
   "cell_type": "markdown",
   "source": [
    "# PPO with Vanilla Surrogate Loss Function\n",
    "\n",
    "In this notebook, we demonstrate our PPO implementation using the surrogate loss function without clipping."
   ],
   "metadata": {
    "collapsed": false
   }
  },
  {
   "cell_type": "code",
   "execution_count": null,
   "metadata": {
    "collapsed": true,
    "pycharm": {
     "is_executing": true
    }
   },
   "outputs": [
    {
     "name": "stderr",
     "output_type": "stream",
     "text": [
      "\n"
     ]
    },
    {
     "ename": "KeyboardInterrupt",
     "evalue": "",
     "output_type": "error",
     "traceback": [
      "\u001B[1;31m---------------------------------------------------------------------------\u001B[0m",
      "\u001B[1;31mKeyboardInterrupt\u001B[0m                         Traceback (most recent call last)",
      "\u001B[1;32m~\\AppData\\Local\\Temp\\ipykernel_12612\\3065865808.py\u001B[0m in \u001B[0;36m<module>\u001B[1;34m\u001B[0m\n\u001B[0;32m      1\u001B[0m \u001B[1;32mimport\u001B[0m \u001B[0mgym\u001B[0m\u001B[1;33m\u001B[0m\u001B[1;33m\u001B[0m\u001B[0m\n\u001B[0;32m      2\u001B[0m \u001B[1;32mimport\u001B[0m \u001B[0mnumpy\u001B[0m \u001B[1;32mas\u001B[0m \u001B[0mnp\u001B[0m\u001B[1;33m\u001B[0m\u001B[1;33m\u001B[0m\u001B[0m\n\u001B[1;32m----> 3\u001B[1;33m \u001B[1;32mimport\u001B[0m \u001B[0mtensorflow\u001B[0m \u001B[1;32mas\u001B[0m \u001B[0mtf\u001B[0m\u001B[1;33m\u001B[0m\u001B[1;33m\u001B[0m\u001B[0m\n\u001B[0m\u001B[0;32m      4\u001B[0m \u001B[1;32mfrom\u001B[0m \u001B[0mPPO\u001B[0m \u001B[1;32mimport\u001B[0m \u001B[0mPPOAgent\u001B[0m\u001B[1;33m\u001B[0m\u001B[1;33m\u001B[0m\u001B[0m\n\u001B[0;32m      5\u001B[0m \u001B[1;32mimport\u001B[0m \u001B[0mtime\u001B[0m\u001B[1;33m\u001B[0m\u001B[1;33m\u001B[0m\u001B[0m\n",
      "\u001B[1;32mC:\\Anaconda3\\envs\\ml\\lib\\site-packages\\tensorflow\\__init__.py\u001B[0m in \u001B[0;36m<module>\u001B[1;34m\u001B[0m\n\u001B[0;32m    376\u001B[0m \u001B[0m_estimator_module\u001B[0m \u001B[1;33m=\u001B[0m \u001B[1;34m\"tensorflow_estimator.python.estimator.api._v2.estimator\"\u001B[0m\u001B[1;33m\u001B[0m\u001B[1;33m\u001B[0m\u001B[0m\n\u001B[0;32m    377\u001B[0m \u001B[0mestimator\u001B[0m \u001B[1;33m=\u001B[0m \u001B[0m_LazyLoader\u001B[0m\u001B[1;33m(\u001B[0m\u001B[1;34m\"estimator\"\u001B[0m\u001B[1;33m,\u001B[0m \u001B[0mglobals\u001B[0m\u001B[1;33m(\u001B[0m\u001B[1;33m)\u001B[0m\u001B[1;33m,\u001B[0m \u001B[0m_estimator_module\u001B[0m\u001B[1;33m)\u001B[0m\u001B[1;33m\u001B[0m\u001B[1;33m\u001B[0m\u001B[0m\n\u001B[1;32m--> 378\u001B[1;33m \u001B[0m_module_dir\u001B[0m \u001B[1;33m=\u001B[0m \u001B[0m_module_util\u001B[0m\u001B[1;33m.\u001B[0m\u001B[0mget_parent_dir_for_name\u001B[0m\u001B[1;33m(\u001B[0m\u001B[0m_estimator_module\u001B[0m\u001B[1;33m)\u001B[0m\u001B[1;33m\u001B[0m\u001B[1;33m\u001B[0m\u001B[0m\n\u001B[0m\u001B[0;32m    379\u001B[0m \u001B[1;32mif\u001B[0m \u001B[0m_module_dir\u001B[0m\u001B[1;33m:\u001B[0m\u001B[1;33m\u001B[0m\u001B[1;33m\u001B[0m\u001B[0m\n\u001B[0;32m    380\u001B[0m   \u001B[0m_current_module\u001B[0m\u001B[1;33m.\u001B[0m\u001B[0m__path__\u001B[0m \u001B[1;33m=\u001B[0m \u001B[1;33m[\u001B[0m\u001B[0m_module_dir\u001B[0m\u001B[1;33m]\u001B[0m \u001B[1;33m+\u001B[0m \u001B[0m_current_module\u001B[0m\u001B[1;33m.\u001B[0m\u001B[0m__path__\u001B[0m\u001B[1;33m\u001B[0m\u001B[1;33m\u001B[0m\u001B[0m\n",
      "\u001B[1;32mC:\\Anaconda3\\envs\\ml\\lib\\site-packages\\tensorflow\\python\\tools\\module_util.py\u001B[0m in \u001B[0;36mget_parent_dir_for_name\u001B[1;34m(module_name)\u001B[0m\n\u001B[0;32m     40\u001B[0m \u001B[1;33m\u001B[0m\u001B[0m\n\u001B[0;32m     41\u001B[0m   \u001B[1;32mtry\u001B[0m\u001B[1;33m:\u001B[0m\u001B[1;33m\u001B[0m\u001B[1;33m\u001B[0m\u001B[0m\n\u001B[1;32m---> 42\u001B[1;33m     \u001B[0mspec\u001B[0m \u001B[1;33m=\u001B[0m \u001B[0mimportlib\u001B[0m\u001B[1;33m.\u001B[0m\u001B[0mutil\u001B[0m\u001B[1;33m.\u001B[0m\u001B[0mfind_spec\u001B[0m\u001B[1;33m(\u001B[0m\u001B[0mname_split\u001B[0m\u001B[1;33m[\u001B[0m\u001B[1;36m0\u001B[0m\u001B[1;33m]\u001B[0m\u001B[1;33m)\u001B[0m\u001B[1;33m\u001B[0m\u001B[1;33m\u001B[0m\u001B[0m\n\u001B[0m\u001B[0;32m     43\u001B[0m   \u001B[1;32mexcept\u001B[0m \u001B[0mValueError\u001B[0m\u001B[1;33m:\u001B[0m\u001B[1;33m\u001B[0m\u001B[1;33m\u001B[0m\u001B[0m\n\u001B[0;32m     44\u001B[0m     \u001B[1;32mreturn\u001B[0m \u001B[1;32mNone\u001B[0m\u001B[1;33m\u001B[0m\u001B[1;33m\u001B[0m\u001B[0m\n",
      "\u001B[1;32mC:\\Anaconda3\\envs\\ml\\lib\\importlib\\util.py\u001B[0m in \u001B[0;36mfind_spec\u001B[1;34m(name, package)\u001B[0m\n\u001B[0;32m    101\u001B[0m         \u001B[1;32melse\u001B[0m\u001B[1;33m:\u001B[0m\u001B[1;33m\u001B[0m\u001B[1;33m\u001B[0m\u001B[0m\n\u001B[0;32m    102\u001B[0m             \u001B[0mparent_path\u001B[0m \u001B[1;33m=\u001B[0m \u001B[1;32mNone\u001B[0m\u001B[1;33m\u001B[0m\u001B[1;33m\u001B[0m\u001B[0m\n\u001B[1;32m--> 103\u001B[1;33m         \u001B[1;32mreturn\u001B[0m \u001B[0m_find_spec\u001B[0m\u001B[1;33m(\u001B[0m\u001B[0mfullname\u001B[0m\u001B[1;33m,\u001B[0m \u001B[0mparent_path\u001B[0m\u001B[1;33m)\u001B[0m\u001B[1;33m\u001B[0m\u001B[1;33m\u001B[0m\u001B[0m\n\u001B[0m\u001B[0;32m    104\u001B[0m     \u001B[1;32melse\u001B[0m\u001B[1;33m:\u001B[0m\u001B[1;33m\u001B[0m\u001B[1;33m\u001B[0m\u001B[0m\n\u001B[0;32m    105\u001B[0m         \u001B[0mmodule\u001B[0m \u001B[1;33m=\u001B[0m \u001B[0msys\u001B[0m\u001B[1;33m.\u001B[0m\u001B[0mmodules\u001B[0m\u001B[1;33m[\u001B[0m\u001B[0mfullname\u001B[0m\u001B[1;33m]\u001B[0m\u001B[1;33m\u001B[0m\u001B[1;33m\u001B[0m\u001B[0m\n",
      "\u001B[1;32mC:\\Anaconda3\\envs\\ml\\lib\\importlib\\_bootstrap.py\u001B[0m in \u001B[0;36m_find_spec\u001B[1;34m(name, path, target)\u001B[0m\n",
      "\u001B[1;31mKeyboardInterrupt\u001B[0m: "
     ]
    }
   ],
   "source": [
    "import gym\n",
    "import numpy as np\n",
    "import tensorflow as tf\n",
    "from PPO import PPOAgent\n",
    "import time\n",
    "import matplotlib.pyplot as plt\n",
    "\n",
    "from Modules import surrogate_loss"
   ]
  },
  {
   "cell_type": "markdown",
   "source": [
    "Set USING_CUSTOM_ENVIRONMENT to `True` if you want to use the environment provided by the professor, and `False` if you want to use Pendulum-v1 from OpenAI Gym. I think the only difference is that Pendulum-v1 stops after 200 timesteps while the environment provided by the professor does not have a limit."
   ],
   "metadata": {
    "collapsed": false
   }
  },
  {
   "cell_type": "code",
   "execution_count": 2,
   "outputs": [],
   "source": [
    "USING_CUSTOM_ENVIRONMENT = False\n",
    "\n",
    "if USING_CUSTOM_ENVIRONMENT:\n",
    "    from a3_gym_env.envs.pendulum import CustomPendulumEnv\n",
    "    env = CustomPendulumEnv()\n",
    "else:\n",
    "    env = gym.make('Pendulum-v1')"
   ],
   "metadata": {
    "collapsed": false,
    "pycharm": {
     "name": "#%%\n"
    }
   }
  },
  {
   "cell_type": "markdown",
   "source": [
    "These are the hyperparameters that we're using. They are very arbitrary, and because our implementation of PPO is slow and we didn't have enough time to find ideal hyperparameters."
   ],
   "metadata": {
    "collapsed": false
   }
  },
  {
   "cell_type": "code",
   "execution_count": null,
   "outputs": [],
   "source": [
    "input_size = 3\n",
    "action_size = 1\n",
    "\n",
    "loss_function = surrogate_loss\n",
    "log_std = .01\n",
    "learning_rate=1e-3\n",
    "gamma = .99\n",
    "\n",
    "total_timesteps = 100000\n",
    "batch_size = 10\n",
    "trajectory_length = 100\n",
    "train_iterations = total_timesteps // (batch_size * trajectory_length)\n",
    "log_interval = train_iterations // 2 # this lets us visualize the value function at the beginning, middle and end of the training"
   ],
   "metadata": {
    "collapsed": false,
    "pycharm": {
     "name": "#%%\n",
     "is_executing": true
    }
   }
  },
  {
   "cell_type": "markdown",
   "source": [
    "## Training the Agent\n",
    "\n",
    "Now, we can create the PPO agent and start training it. This will take a while, especially as the loss function becomes more complex."
   ],
   "metadata": {
    "collapsed": false
   }
  },
  {
   "cell_type": "code",
   "execution_count": null,
   "outputs": [],
   "source": [
    "agent = PPOAgent(input_size=input_size, output_size=action_size, log_std=log_std, num_trajectories=batch_size, trajectory_length=trajectory_length, learning_rate=learning_rate)\n",
    "\n",
    "agent.train(env=env, max_iterations=train_iterations, log_interval=log_interval)"
   ],
   "metadata": {
    "collapsed": false,
    "pycharm": {
     "name": "#%%\n",
     "is_executing": true
    }
   }
  },
  {
   "cell_type": "markdown",
   "source": [
    "Now that the agent is trained, we can plot the reward-to-go and loss during the agent's training. The x-axis of each plot represents the iteration that the PPO algorithm was on, not the timestep in the environment."
   ],
   "metadata": {
    "collapsed": false
   }
  },
  {
   "cell_type": "code",
   "execution_count": null,
   "outputs": [],
   "source": [
    "iterations = np.arange(train_iterations)\n",
    "plt.plot(iterations, agent.rewards)\n",
    "plt.xlabel('Iteration')\n",
    "plt.ylabel('Reward to Go')\n",
    "plt.title('Reward to Go vs. Iteration')\n",
    "plt.show()"
   ],
   "metadata": {
    "collapsed": false,
    "pycharm": {
     "name": "#%%\n",
     "is_executing": true
    }
   }
  },
  {
   "cell_type": "code",
   "execution_count": null,
   "outputs": [],
   "source": [
    "plt.plot(iterations, agent.losses)\n",
    "plt.xlabel('Iteration')\n",
    "plt.ylabel('Loss')\n",
    "plt.title('Loss vs. Iteration')\n",
    "plt.show()"
   ],
   "metadata": {
    "collapsed": false,
    "pycharm": {
     "name": "#%%\n",
     "is_executing": true
    }
   }
  }
 ],
 "metadata": {
  "kernelspec": {
   "display_name": "Python 3",
   "language": "python",
   "name": "python3"
  },
  "language_info": {
   "codemirror_mode": {
    "name": "ipython",
    "version": 2
   },
   "file_extension": ".py",
   "mimetype": "text/x-python",
   "name": "python",
   "nbconvert_exporter": "python",
   "pygments_lexer": "ipython2",
   "version": "2.7.6"
  }
 },
 "nbformat": 4,
 "nbformat_minor": 0
}